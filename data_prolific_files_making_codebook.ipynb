{
 "cells": [
  {
   "cell_type": "code",
   "execution_count": 5,
   "id": "666afdc5-dce3-4b9f-8731-3d7bc086b8a9",
   "metadata": {},
   "outputs": [
    {
     "name": "stdout",
     "output_type": "stream",
     "text": [
      "                   File Name                  Column Name\n",
      "0        trader_metadata.csv    participant.id_in_session\n",
      "1        trader_metadata.csv             participant.code\n",
      "2        trader_metadata.csv            participant.label\n",
      "3        trader_metadata.csv          participant._is_bot\n",
      "4        trader_metadata.csv  participant._index_in_pages\n",
      "..                       ...                          ...\n",
      "201  optimal_trade_flags.csv                  tick_number\n",
      "202  optimal_trade_flags.csv                filtered_prob\n",
      "203  optimal_trade_flags.csv                   trade_flag\n",
      "204  optimal_trade_flags.csv          optimal_trade_count\n",
      "205  optimal_trade_flags.csv                        price\n",
      "\n",
      "[206 rows x 2 columns]\n"
     ]
    }
   ],
   "source": [
    "import pandas as pd\n",
    "import os\n",
    "\n",
    "# Directory where your CSV files are stored\n",
    "folder_path = '/Users/chapkovski/Documents/gamification_investor_behavior/data_prolific'\n",
    "\n",
    "# List to store the file name and column names\n",
    "data = []\n",
    "\n",
    "# Iterating over each file in the directory\n",
    "for file in os.listdir(folder_path):\n",
    "    if file.endswith('.csv'):\n",
    "        file_path = os.path.join(folder_path, file)\n",
    "        df = pd.read_csv(file_path)\n",
    "        df.drop(df.columns[0], axis=1, inplace=True)\n",
    "        # Extracting each column name and appending it with the file name\n",
    "        for column in df.columns:\n",
    "            data.append((file, column))\n",
    "\n",
    "# Creating a DataFrame\n",
    "result_df = pd.DataFrame(data, columns=['File Name', 'Column Name'])\n",
    "print(result_df)\n",
    "# Exporting to a new CSV file\n",
    "result_df.to_csv('~/documents/codebook_data_prolific_files.csv', index=False)\n"
   ]
  },
  {
   "cell_type": "code",
   "execution_count": 23,
   "id": "edb11803-0376-456f-b9e6-f930129367b7",
   "metadata": {},
   "outputs": [
    {
     "name": "stdout",
     "output_type": "stream",
     "text": [
      "Index(['File Name', 'variable_name'], dtype='object')\n",
      "Index(['filename', 'variable_name', 'description'], dtype='object')\n",
      "                   File Name                variable_name  \\\n",
      "0        trader_metadata.csv    participant.id_in_session   \n",
      "1        trader_metadata.csv             participant.code   \n",
      "2        trader_metadata.csv            participant.label   \n",
      "3        trader_metadata.csv          participant._is_bot   \n",
      "4        trader_metadata.csv  participant._index_in_pages   \n",
      "..                       ...                          ...   \n",
      "201  optimal_trade_flags.csv                  tick_number   \n",
      "202  optimal_trade_flags.csv                filtered_prob   \n",
      "203  optimal_trade_flags.csv                   trade_flag   \n",
      "204  optimal_trade_flags.csv          optimal_trade_count   \n",
      "205  optimal_trade_flags.csv                        price   \n",
      "\n",
      "                             filename  \\\n",
      "0    post_experimental_2023-04-13.csv   \n",
      "1    post_experimental_2023-04-13.csv   \n",
      "2    post_experimental_2023-04-13.csv   \n",
      "3    post_experimental_2023-04-13.csv   \n",
      "4    post_experimental_2023-04-13.csv   \n",
      "..                                ...   \n",
      "201     trader_wrapper_2023-04-13.csv   \n",
      "202                               NaN   \n",
      "203                               NaN   \n",
      "204                               NaN   \n",
      "205                               NaN   \n",
      "\n",
      "                                           description  \n",
      "0    Identifier for the participant within the sess...  \n",
      "1        Unique code for the participant in the study.  \n",
      "2    label - used for storing and associating with ...  \n",
      "3                             Not used; internal otree  \n",
      "4                  page index reached by a particiapnt  \n",
      "..                                                 ...  \n",
      "201  The specific tick (time point) in the trading ...  \n",
      "202                                                NaN  \n",
      "203                                                NaN  \n",
      "204                                                NaN  \n",
      "205                                                NaN  \n",
      "\n",
      "[206 rows x 4 columns]\n"
     ]
    }
   ],
   "source": [
    "df = pd.read_csv('/Users/chapkovski/Documents/codebook_data_prolific_files.csv')\n",
    "# Get unique values from 'Column Name' column\n",
    "df.rename(columns={'Column Name': 'variable_name'}, inplace=True)\n",
    "print(df.columns)\n",
    "rawnamesdf=pd.read_excel('/Users/chapkovski/Documents/gamification_investor_behavior/codebooks/codebook_gamification_all_files.xlsx')\n",
    "print(rawnamesdf.columns)\n",
    "# Drop duplicates in the right DataFrame\n",
    "rawnamesdf_unique = rawnamesdf.drop_duplicates(subset='variable_name')\n",
    "\n",
    "# Perform a left join using the modified right DataFrame\n",
    "joined_df = df.merge(rawnamesdf_unique, on='variable_name', how='left')\n",
    "# joined_df=joined_df[joined_df['description'].isna()]\n",
    "\n",
    "# Display the result\n",
    "print(joined_df)\n",
    "joined_df.to_csv('~/documents/codebook_data_prolific.csv', index=False)"
   ]
  },
  {
   "cell_type": "code",
   "execution_count": null,
   "id": "e866183e-660f-4dcc-bb8a-f0e0be4776e5",
   "metadata": {},
   "outputs": [],
   "source": []
  }
 ],
 "metadata": {
  "kernelspec": {
   "display_name": "Python 3 (ipykernel)",
   "language": "python",
   "name": "python3"
  },
  "language_info": {
   "codemirror_mode": {
    "name": "ipython",
    "version": 3
   },
   "file_extension": ".py",
   "mimetype": "text/x-python",
   "name": "python",
   "nbconvert_exporter": "python",
   "pygments_lexer": "ipython3",
   "version": "3.8.18"
  }
 },
 "nbformat": 4,
 "nbformat_minor": 5
}
